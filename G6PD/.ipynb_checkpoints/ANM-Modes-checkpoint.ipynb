{
 "cells": [
  {
   "cell_type": "code",
   "execution_count": 1,
   "metadata": {},
   "outputs": [
    {
     "name": "stderr",
     "output_type": "stream",
     "text": [
      "/home/diego/Myopt/Miniconda/miniconda3/envs/ENM/lib/python3.6/site-packages/MDAnalysis/due.py:88: UserWarning: No module named 'duecredit'\n",
      "  warnings.warn(str(err))\n",
      "/home/diego/Myopt/Miniconda/miniconda3/envs/ENM/lib/python3.6/site-packages/pyemma/__init__.py:91: UserWarning: You are not using the latest release of PyEMMA. Latest is 2.5.2, you have 2.4.\n",
      "  .format(latest=latest, current=current), category=UserWarning)\n"
     ]
    }
   ],
   "source": [
    "import mdtraj\n",
    "import nglview\n",
    "import prody\n",
    "import numpy as np\n",
    "import seaborn as sns\n",
    "import matplotlib.pyplot as plt\n",
    "\n",
    "\n",
    "import sys\n",
    "sys.path.append('/home/diego/Myusr/src/UIBCDFGitHub/LabTools/')\n",
    "import MolLabTools as mollab\n",
    "import MDLabTools as mdlab\n",
    "\n",
    "#sns.set(style=\"ticks\")\n",
    "plt.style.use(u'ggplot')"
   ]
  },
  {
   "cell_type": "markdown",
   "metadata": {},
   "source": [
    "# G6PD"
   ]
  },
  {
   "cell_type": "markdown",
   "metadata": {},
   "source": [
    "https://www.rcsb.org/structure/2BHL <br>\n",
    "THE 25 N-TERMINAL RESIDUES HAVE BEEN REMOVED AND THE FIRST RESIDUE IS VALINE, NOT HISTIDINE\n",
    "\n",
    "\n",
    "https://www.rcsb.org/structure/2BH9 <br>\n",
    "RESIDUES 26-514\n",
    "\n",
    "\n",
    "https://www.rcsb.org/structure/5VFL\n"
   ]
  },
  {
   "cell_type": "markdown",
   "metadata": {},
   "source": [
    "## 2BHL"
   ]
  },
  {
   "cell_type": "code",
   "execution_count": 2,
   "metadata": {},
   "outputs": [],
   "source": [
    "pdbs_dir='pdbs/'\n",
    "pdb_code='2BHL'\n",
    "pdb_file=pdbs_dir+pdb_code+'.pdb'"
   ]
  },
  {
   "cell_type": "code",
   "execution_count": 3,
   "metadata": {},
   "outputs": [],
   "source": [
    "mdtraj_sys=mdtraj.load(pdb_file)\n",
    "mdtraj_sys=mdtraj_sys.remove_solvent()"
   ]
  },
  {
   "cell_type": "code",
   "execution_count": 4,
   "metadata": {},
   "outputs": [
    {
     "data": {
      "application/vnd.jupyter.widget-view+json": {
       "model_id": "208ee61e083e453fa16e5ca4b8b6526f",
       "version_major": 2,
       "version_minor": 0
      },
      "text/plain": [
       "NGLWidget()"
      ]
     },
     "metadata": {},
     "output_type": "display_data"
    }
   ],
   "source": [
    "view = nglview.show_mdtraj(mdtraj_sys)\n",
    "view.clear()\n",
    "view.add_cartoon(selection=\":A\", color='purple')\n",
    "view.add_cartoon(selection=\":B\", color='orange')\n",
    "view.add_spacefill(selection=\":C\")\n",
    "view.add_spacefill(selection=\":D\")\n",
    "view"
   ]
  },
  {
   "cell_type": "code",
   "execution_count": 10,
   "metadata": {},
   "outputs": [],
   "source": [
    "lista_CAs=mdtraj_sys.topology.select('name CA')"
   ]
  },
  {
   "cell_type": "code",
   "execution_count": 40,
   "metadata": {},
   "outputs": [
    {
     "data": {
      "text/plain": [
       "(958, 2874)"
      ]
     },
     "execution_count": 40,
     "metadata": {},
     "output_type": "execute_result"
    }
   ],
   "source": [
    "len(lista_CAs),len(lista_CAs)*3"
   ]
  },
  {
   "cell_type": "code",
   "execution_count": 11,
   "metadata": {},
   "outputs": [],
   "source": [
    "mdtraj_CAs=mdtraj_sys.atom_slice(lista_CAs)"
   ]
  },
  {
   "cell_type": "code",
   "execution_count": 15,
   "metadata": {},
   "outputs": [
    {
     "data": {
      "application/vnd.jupyter.widget-view+json": {
       "model_id": "08fbcc7d27e74b08af71e2fe7631ea56",
       "version_major": 2,
       "version_minor": 0
      },
      "text/plain": [
       "NGLWidget()"
      ]
     },
     "metadata": {},
     "output_type": "display_data"
    }
   ],
   "source": [
    "view = nglview.show_mdtraj(mdtraj_CAs)\n",
    "view.clear()\n",
    "view.add_backbone(selection=\":A\", color='purple')\n",
    "view.add_backbone(selection=\":B\", color='orange')\n",
    "view"
   ]
  },
  {
   "cell_type": "code",
   "execution_count": 20,
   "metadata": {},
   "outputs": [
    {
     "name": "stderr",
     "output_type": "stream",
     "text": [
      "@> 7903 atoms and 1 coordinate set(s) were parsed in 0.09s.\n",
      "@> Hessian was built in 0.57s.\n",
      "@> 20 modes were calculated in 1.23s.\n"
     ]
    }
   ],
   "source": [
    "prody_2bhl = prody.parsePDB(pdb_file)\n",
    "calphas = prody_2bhl.select('calpha and (chain A or chain B)')\n",
    "anm = prody.ANM('2BHL')\n",
    "anm.buildHessian(calphas,cutoff=15.0)\n",
    "anm.calcModes()\n",
    "modes=anm.getEigvecs().round(3)"
   ]
  },
  {
   "cell_type": "code",
   "execution_count": 55,
   "metadata": {},
   "outputs": [],
   "source": [
    "def mode2vect(modes,n_mode=0):\n",
    "    m=modes[:,n_mode]\n",
    "    nalphas=int(m.shape[0]/3)\n",
    "    return m.reshape(nalphas,3)\n",
    "\n",
    "def mode2norm(modes,n_mode=0):\n",
    "    m=modes[:,n_mode]\n",
    "    nalphas=int(m.shape[0]/3)\n",
    "    a=m.reshape(nalphas,3)\n",
    "    return np.linalg.norm(a,axis=-1)"
   ]
  },
  {
   "cell_type": "code",
   "execution_count": 70,
   "metadata": {},
   "outputs": [],
   "source": [
    "aa=mode2norm(modes,0)"
   ]
  },
  {
   "cell_type": "code",
   "execution_count": 57,
   "metadata": {},
   "outputs": [
    {
     "data": {
      "text/plain": [
       "array([0.03861347, 0.03837968, 0.04563989, 0.04614109, 0.04882622,\n",
       "       0.04352011, 0.0433705 , 0.03722902, 0.03820995, 0.03472751,\n",
       "       0.03327161, 0.0324037 , 0.03716181, 0.0400125 , 0.03367492,\n",
       "       0.03307567, 0.02776689, 0.03207803, 0.03817067, 0.03518522,\n",
       "       0.02942788, 0.02893095, 0.03689173, 0.03776242, 0.03088689,\n",
       "       0.03318132, 0.04012481, 0.03563706, 0.03167018, 0.03976179,\n",
       "       0.04253234, 0.03501428, 0.03695944, 0.03014963, 0.03426368,\n",
       "       0.03837968, 0.04580393, 0.04964877, 0.04558509, 0.04794789,\n",
       "       0.0443396 , 0.04606517, 0.04352011, 0.04276681, 0.0413884 ,\n",
       "       0.0436921 , 0.04796874, 0.05472659, 0.05669215, 0.06121274,\n",
       "       0.05821512, 0.063     , 0.05905929, 0.05209607, 0.05550676,\n",
       "       0.05834381, 0.05141984, 0.04738143, 0.05236411, 0.05293392,\n",
       "       0.04555217, 0.04614109, 0.04756049, 0.05274467, 0.05943904,\n",
       "       0.06708949, 0.06519202, 0.06044833, 0.06599242, 0.06646804,\n",
       "       0.0569649 , 0.05744563, 0.063     , 0.05921149, 0.05316014,\n",
       "       0.05678028, 0.060959  , 0.05477226, 0.05329165, 0.05530823,\n",
       "       0.053     , 0.05303772, 0.05123475, 0.04850773, 0.04223742,\n",
       "       0.03635932, 0.0396106 , 0.04658326, 0.05187485, 0.05683309,\n",
       "       0.05284884, 0.05048762, 0.05731492, 0.0591608 , 0.05270674,\n",
       "       0.05562374, 0.0626578 , 0.06093439, 0.0559017 , 0.06181424,\n",
       "       0.06623443, 0.06195159, 0.06402343, 0.06181424, 0.05770615,\n",
       "       0.06041523, 0.05758472, 0.05001   , 0.04302325, 0.03957272,\n",
       "       0.03257299, 0.03141656, 0.026     , 0.02402082, 0.02412468,\n",
       "       0.02258318, 0.01652271, 0.01315295, 0.01630951, 0.02291288,\n",
       "       0.02111871, 0.0254951 , 0.03056141, 0.03220248, 0.03167018,\n",
       "       0.03774917, 0.04234383, 0.04050926, 0.04346263, 0.04937611,\n",
       "       0.05198077, 0.04811445, 0.04802083, 0.05114685, 0.05640035,\n",
       "       0.05616939, 0.04846648, 0.0416173 , 0.03760319, 0.03056141,\n",
       "       0.0264764 , 0.02078461, 0.01630951, 0.01081665, 0.00734847,\n",
       "       0.00640312, 0.01048809, 0.0117047 , 0.01284523, 0.01846619,\n",
       "       0.02267157, 0.02418677, 0.01944222, 0.01783255, 0.02475884,\n",
       "       0.02525866, 0.02111871, 0.02334524, 0.02954657, 0.03106445,\n",
       "       0.02861818, 0.0317805 , 0.03837968, 0.03869108, 0.03569314,\n",
       "       0.03535534, 0.02744085, 0.02751363, 0.02954657, 0.02362202,\n",
       "       0.0175784 , 0.01236932, 0.00787401, 0.00648074, 0.00877496,\n",
       "       0.00905539, 0.00734847, 0.00877496, 0.01135782, 0.01280625,\n",
       "       0.01374773, 0.0117047 , 0.00948683, 0.012     , 0.01349074,\n",
       "       0.01153256, 0.0124499 , 0.01496663, 0.01603122, 0.01392839,\n",
       "       0.01496663, 0.01827567, 0.01897367, 0.01974842, 0.01889444,\n",
       "       0.01772005, 0.01862794, 0.01954482, 0.01841195, 0.02046949,\n",
       "       0.0239583 , 0.0219545 , 0.02233831, 0.02334524, 0.0261916 ,\n",
       "       0.0261916 , 0.02334524, 0.02343075, 0.02063977, 0.02149419,\n",
       "       0.02      , 0.02213594, 0.02357965, 0.0286531 , 0.02744085,\n",
       "       0.02491987, 0.02222611, 0.02418677, 0.02471841, 0.01886796,\n",
       "       0.01849324, 0.01529706, 0.01135782, 0.01349074, 0.01584298,\n",
       "       0.0124499 , 0.01272792, 0.0168226 , 0.01813836, 0.01754993,\n",
       "       0.01403567, 0.01122497, 0.0128841 , 0.01574802, 0.01442221,\n",
       "       0.01067708, 0.01144552, 0.01479865, 0.01529706, 0.01284523,\n",
       "       0.014     , 0.01711724, 0.0150333 , 0.01363818, 0.01593738,\n",
       "       0.01886796, 0.01729162, 0.01749286, 0.01452584, 0.01486607,\n",
       "       0.0156205 , 0.01187434, 0.00943398, 0.01256981, 0.01476482,\n",
       "       0.01862794, 0.01702939, 0.01337909, 0.01513275, 0.01951922,\n",
       "       0.01772005, 0.01603122, 0.01972308, 0.02231591, 0.021     ,\n",
       "       0.02135416, 0.02531798, 0.02734959, 0.02655184, 0.03056141,\n",
       "       0.02969848, 0.02942788, 0.0341321 , 0.0349285 , 0.03863936,\n",
       "       0.03517101, 0.03252691, 0.03352611, 0.03077337, 0.03088689,\n",
       "       0.03003331, 0.03165438, 0.03615245, 0.03879433, 0.04275512,\n",
       "       0.04786439, 0.05131277, 0.04624932, 0.04414748, 0.04210701,\n",
       "       0.03552464, 0.03702702, 0.04050926, 0.03567913, 0.03281768,\n",
       "       0.02823119, 0.02875761, 0.0317805 , 0.0273313 , 0.02437212,\n",
       "       0.02012461, 0.02090454, 0.02071232, 0.02531798, 0.02908608,\n",
       "       0.0255147 , 0.02814249, 0.02304344, 0.02525866, 0.02385372,\n",
       "       0.02596151, 0.02594224, 0.02765863, 0.02749545, 0.02894823,\n",
       "       0.02685144, 0.02880972, 0.02555386, 0.02867054, 0.02716616,\n",
       "       0.02570992, 0.02267157, 0.02426932, 0.02858321, 0.03136877,\n",
       "       0.0273313 , 0.02792848, 0.02487971, 0.02643861, 0.02357965,\n",
       "       0.02487971, 0.02149419, 0.02443358, 0.02368544, 0.0291719 ,\n",
       "       0.031     , 0.03419064, 0.02952965, 0.02539685, 0.02158703,\n",
       "       0.01772005, 0.01802776, 0.01889444, 0.02163331, 0.02233831,\n",
       "       0.02349468, 0.02349468, 0.02317326, 0.02024846, 0.018     ,\n",
       "       0.01609348, 0.01341641, 0.01319091, 0.01157584, 0.01122497,\n",
       "       0.01144552, 0.01486607, 0.01459452, 0.01676305, 0.02071232,\n",
       "       0.02215852, 0.02156386, 0.02154066, 0.02104757, 0.02014944,\n",
       "       0.01805547, 0.01783255, 0.01565248, 0.01774824, 0.02073644,\n",
       "       0.02051828, 0.01711724, 0.017     , 0.01862794, 0.02109502,\n",
       "       0.0210238 , 0.02071232, 0.01941649, 0.01702939, 0.01581139,\n",
       "       0.01363818, 0.01349074, 0.01445683, 0.0153948 , 0.01319091,\n",
       "       0.01104536, 0.00877496, 0.01048809, 0.01363818, 0.01555635,\n",
       "       0.01868154, 0.0175784 , 0.01933908, 0.02012461, 0.02109502,\n",
       "       0.01920937, 0.01841195, 0.01791647, 0.01920937, 0.01746425,\n",
       "       0.01805547, 0.01870829, 0.02142429, 0.02111871, 0.02002498,\n",
       "       0.02140093, 0.01811077, 0.019     , 0.01979899, 0.01396424,\n",
       "       0.017     , 0.01994994, 0.01424781, 0.01224745, 0.01843909,\n",
       "       0.02039608, 0.01649242, 0.02078461, 0.02539685, 0.02315167,\n",
       "       0.02215852, 0.0156205 , 0.01452584, 0.01072381, 0.00734847,\n",
       "       0.01024695, 0.0117047 , 0.01714643, 0.02061553, 0.0235372 ,\n",
       "       0.01791647, 0.01630951, 0.02147091, 0.02231591, 0.01841195,\n",
       "       0.02009975, 0.02519921, 0.02537716, 0.02256103, 0.02372762,\n",
       "       0.02952965, 0.02807134, 0.0234094 , 0.02709243, 0.03103224,\n",
       "       0.02823119, 0.02596151, 0.03103224, 0.0340294 , 0.03082207,\n",
       "       0.03456877, 0.035     , 0.03313608, 0.03682391, 0.03676955,\n",
       "       0.03710795, 0.03828838, 0.03580503, 0.03651027, 0.03753665,\n",
       "       0.03407345, 0.03419064, 0.03667424, 0.04127953, 0.04021194,\n",
       "       0.03618011, 0.0373497 , 0.04091455, 0.03736308, 0.03443835,\n",
       "       0.03757659, 0.04042277, 0.03552464, 0.03234192, 0.03130495,\n",
       "       0.03014963, 0.03168596, 0.02762245, 0.03446738, 0.03201562,\n",
       "       0.03679674, 0.04456456, 0.04601087, 0.04751842, 0.04274342,\n",
       "       0.04298837, 0.03742993, 0.03785499, 0.03438023, 0.03367492,\n",
       "       0.03405877, 0.03891015, 0.04167733, 0.03420526, 0.03397058,\n",
       "       0.02833725, 0.03201562, 0.03880722, 0.03648287, 0.02969848,\n",
       "       0.02863564, 0.03737646, 0.03797368, 0.02998333, 0.03289377,\n",
       "       0.03956008, 0.03443835, 0.0308707 , 0.03854867, 0.04080441,\n",
       "       0.03397058, 0.03544009, 0.0291376 , 0.03269557, 0.03742993,\n",
       "       0.04484417, 0.04821825, 0.04431704, 0.04768648, 0.04458699,\n",
       "       0.04588028, 0.0438178 , 0.0430581 , 0.042     , 0.04528797,\n",
       "       0.04928489, 0.0564358 , 0.05686827, 0.06139218, 0.05880476,\n",
       "       0.06395311, 0.05959866, 0.05264979, 0.05502727, 0.05908468,\n",
       "       0.05266878, 0.04827007, 0.05349766, 0.05435071, 0.04649731,\n",
       "       0.04618441, 0.04952777, 0.05346962, 0.05866856, 0.06655825,\n",
       "       0.06326927, 0.05771482, 0.06453681, 0.06428841, 0.0550636 ,\n",
       "       0.05631163, 0.06291264, 0.05890671, 0.05221111, 0.05550676,\n",
       "       0.0609426 , 0.05413871, 0.05255473, 0.05487258, 0.05336666,\n",
       "       0.05330103, 0.05239275, 0.04905099, 0.04411349, 0.03702702,\n",
       "       0.03822303, 0.04596738, 0.0504579 , 0.0573498 , 0.05330103,\n",
       "       0.04953786, 0.05667451, 0.05900847, 0.05273519, 0.05520869,\n",
       "       0.06242596, 0.06007495, 0.05545268, 0.060959  , 0.06568105,\n",
       "       0.06113101, 0.06236185, 0.06024118, 0.05670979, 0.05982474,\n",
       "       0.05581219, 0.04957822, 0.04268489, 0.04037326, 0.03257299,\n",
       "       0.03190611, 0.02692582, 0.02387467, 0.02412468, 0.02310844,\n",
       "       0.01679286, 0.01374773, 0.0153948 , 0.02286919, 0.0212132 ,\n",
       "       0.02586503, 0.03082207, 0.03226453, 0.03215587, 0.03712142,\n",
       "       0.04080441, 0.04042277, 0.04235564, 0.04880574, 0.05140039,\n",
       "       0.04784349, 0.04743416, 0.05093133, 0.05500909, 0.05533534,\n",
       "       0.04777028, 0.04114608, 0.03769615, 0.03028201, 0.02628688,\n",
       "       0.02024846, 0.01634013, 0.01063015, 0.00714143, 0.00640312,\n",
       "       0.01029563, 0.01118034, 0.01220656, 0.01714643, 0.0212132 ,\n",
       "       0.02383275, 0.01805547, 0.01769181, 0.02404163, 0.02387467,\n",
       "       0.0222036 , 0.02351595, 0.02956349, 0.03095158, 0.02861818,\n",
       "       0.03226453, 0.03806573, 0.03944617, 0.03524202, 0.03456877,\n",
       "       0.027     , 0.02729469, 0.02927456, 0.02343075, 0.01723369,\n",
       "       0.01236932, 0.0083666 , 0.00616441, 0.009     , 0.00860233,\n",
       "       0.00714143, 0.009     , 0.01063015, 0.01252996, 0.01428286,\n",
       "       0.01178983, 0.00989949, 0.01208305, 0.01349074, 0.01236932,\n",
       "       0.0130767 , 0.01615549, 0.01630951, 0.01449138, 0.01574802,\n",
       "       0.01813836, 0.01933908, 0.01926136, 0.01897367, 0.01884144,\n",
       "       0.01870829, 0.01944222, 0.01910497, 0.02104757, 0.02416609,\n",
       "       0.02249444, 0.02222611, 0.02387467, 0.02615339, 0.02615339,\n",
       "       0.02317326, 0.02376973, 0.02022375, 0.02061553, 0.01931321,\n",
       "       0.02275961, 0.02385372, 0.02847806, 0.02694439, 0.02437212,\n",
       "       0.02118962, 0.02422808, 0.02422808, 0.0183303 , 0.01868154,\n",
       "       0.01456022, 0.01063015, 0.01330413, 0.01523155, 0.01204159,\n",
       "       0.01204159, 0.01691153, 0.01711724, 0.01734935, 0.01280625,\n",
       "       0.01157584, 0.0128841 , 0.01603122, 0.01459452, 0.011     ,\n",
       "       0.01104536, 0.01506652, 0.01577973, 0.01220656, 0.01345362,\n",
       "       0.01711724, 0.01542725, 0.01392839, 0.01643168, 0.01892089,\n",
       "       0.01774824, 0.01824829, 0.01529706, 0.01489966, 0.01516575,\n",
       "       0.01183216, 0.00989949, 0.01236932, 0.01349074, 0.01813836,\n",
       "       0.01729162, 0.01363818, 0.01513275, 0.01951922, 0.01794436,\n",
       "       0.01630951, 0.01951922, 0.02142429, 0.02135416, 0.02135416,\n",
       "       0.02477902, 0.02632489, 0.02628688, 0.03001666, 0.03023243,\n",
       "       0.02908608, 0.03391165, 0.03445287, 0.03754997, 0.0340294 ,\n",
       "       0.03116087, 0.03238827, 0.0293428 , 0.02969848, 0.02908608,\n",
       "       0.03108054, 0.03518522, 0.03689173, 0.04154516, 0.04675468,\n",
       "       0.04920366, 0.04531004, 0.04356604, 0.04027406, 0.03466987,\n",
       "       0.03678315, 0.03957272, 0.03512834, 0.03266497, 0.02738613,\n",
       "       0.02853069, 0.03082207, 0.02657066, 0.02471841, 0.01933908,\n",
       "       0.02083267, 0.02002498, 0.02487971, 0.02729469, 0.02557342,\n",
       "       0.02657066, 0.02310844, 0.02393742, 0.02286919, 0.02507987,\n",
       "       0.02531798, 0.02810694, 0.02744085, 0.02789265, 0.02657066,\n",
       "       0.02782086, 0.02569047, 0.02944486, 0.02687006, 0.02649528,\n",
       "       0.02306513, 0.02459675, 0.02872281, 0.03103224, 0.02714774,\n",
       "       0.02789265, 0.02475884, 0.02615339, 0.02249444, 0.02459675,\n",
       "       0.02149419, 0.02286919, 0.02387467, 0.02833725, 0.03043025,\n",
       "       0.03257299, 0.02927456, 0.02501999, 0.02174856, 0.01749286,\n",
       "       0.01838478, 0.01897367, 0.02149419, 0.02222611, 0.02351595,\n",
       "       0.02289105, 0.02351595, 0.02063977, 0.01760682, 0.01552417,\n",
       "       0.01280625, 0.01268858, 0.01104536, 0.011     , 0.01174734,\n",
       "       0.01403567, 0.01417745, 0.01655295, 0.02073644, 0.0219545 ,\n",
       "       0.02142429, 0.02140093, 0.02083267, 0.02111871, 0.01791647,\n",
       "       0.01805547, 0.01516575, 0.01726268, 0.02071232, 0.02042058,\n",
       "       0.01711724, 0.01774824, 0.01881489, 0.02061553, 0.02109502,\n",
       "       0.02063977, 0.01931321, 0.01655295, 0.01516575, 0.01284523,\n",
       "       0.013     , 0.01469694, 0.01516575, 0.01356466, 0.01086278,\n",
       "       0.00866025, 0.01048809, 0.01363818, 0.01577973, 0.01824829,\n",
       "       0.01780449, 0.01923538, 0.02024846, 0.02149419, 0.01972308,\n",
       "       0.01846619, 0.01805547, 0.01951922, 0.01737815, 0.01813836,\n",
       "       0.01846619, 0.02083267, 0.02027313, 0.01889444, 0.02061553,\n",
       "       0.01860108, 0.01846619, 0.01862794, 0.01363818, 0.01652271,\n",
       "       0.01933908, 0.01319091, 0.01252996, 0.01805547, 0.01933908,\n",
       "       0.01496663, 0.01951922, 0.02491987, 0.02184033, 0.02222611,\n",
       "       0.01486607, 0.01378405, 0.01029563, 0.00734847, 0.00964365,\n",
       "       0.01135782, 0.01688194, 0.02073644, 0.02231591, 0.01822087,\n",
       "       0.01658312, 0.02118962, 0.02213594, 0.01841195, 0.01979899,\n",
       "       0.02477902, 0.02453569, 0.023     , 0.02362202, 0.02824889,\n",
       "       0.02792848, 0.02343075, 0.02539685, 0.02988311, 0.0275318 ,\n",
       "       0.02501999, 0.03026549, 0.03318132, 0.0298161 , 0.03281768,\n",
       "       0.03442383, 0.03154362, 0.03524202, 0.03629049, 0.03606938,\n",
       "       0.03828838, 0.03472751, 0.0359444 , 0.03706751, 0.03361547,\n",
       "       0.03324154, 0.03637307, 0.03977436, 0.03983717, 0.03488553,\n",
       "       0.03640055, 0.03981206, 0.03725587, 0.03420526, 0.03560899,\n",
       "       0.03903844, 0.03498571, 0.03238827, 0.03128898, 0.02974895,\n",
       "       0.03130495, 0.02858321, 0.02592296])"
      ]
     },
     "execution_count": 57,
     "metadata": {},
     "output_type": "execute_result"
    }
   ],
   "source": [
    "aa"
   ]
  },
  {
   "cell_type": "code",
   "execution_count": null,
   "metadata": {},
   "outputs": [],
   "source": [
    "mdtraj_CAs."
   ]
  },
  {
   "cell_type": "code",
   "execution_count": 74,
   "metadata": {},
   "outputs": [
    {
     "data": {
      "application/vnd.jupyter.widget-view+json": {
       "model_id": "fc499d34bb7642f09f17166f272c90da",
       "version_major": 2,
       "version_minor": 0
      },
      "text/plain": [
       "NGLWidget()"
      ]
     },
     "metadata": {},
     "output_type": "display_data"
    }
   ],
   "source": [
    "view = nglview.show_mdtraj(mdtraj_CAs,bfactor=10*aa)\n",
    "view.clear()\n",
    "view.add_backbone(color='bfactor')\n",
    "view"
   ]
  },
  {
   "cell_type": "code",
   "execution_count": 69,
   "metadata": {},
   "outputs": [
    {
     "name": "stdout",
     "output_type": "stream",
     "text": [
      "Help on function show_mdtraj in module nglview.show:\n",
      "\n",
      "show_mdtraj(mdtraj_trajectory, **kwargs)\n",
      "    Show mdtraj trajectory.\n",
      "    \n",
      "    Examples\n",
      "    --------\n",
      "    >>> import nglview as nv\n",
      "    >>> import mdtraj as md\n",
      "    >>> t = md.load(nv.datafiles.XTC, top=nv.datafiles.GRO)\n",
      "    >>> w = nv.show_mdtraj(t)\n",
      "    >>> w # doctest: +SKIP\n",
      "\n"
     ]
    }
   ],
   "source": [
    "help(nglview.show_mdtraj)"
   ]
  },
  {
   "cell_type": "markdown",
   "metadata": {},
   "source": [
    "Tendrá sentido hacer un pdbfix?"
   ]
  },
  {
   "cell_type": "markdown",
   "metadata": {},
   "source": [
    "# GNM"
   ]
  },
  {
   "cell_type": "code",
   "execution_count": null,
   "metadata": {},
   "outputs": [],
   "source": [
    "prody_2bhl = prody.parsePDB(pdb_file)"
   ]
  },
  {
   "cell_type": "code",
   "execution_count": null,
   "metadata": {},
   "outputs": [],
   "source": [
    "calphas = prody_2bhl.select('calpha and (chain A or chain B)')"
   ]
  },
  {
   "cell_type": "code",
   "execution_count": null,
   "metadata": {},
   "outputs": [],
   "source": [
    "anm = prody.ANM('2BHL')"
   ]
  },
  {
   "cell_type": "code",
   "execution_count": null,
   "metadata": {},
   "outputs": [],
   "source": []
  },
  {
   "cell_type": "code",
   "execution_count": null,
   "metadata": {},
   "outputs": [],
   "source": [
    "anm.buildHessian(calphas,cutoff=15.0)"
   ]
  },
  {
   "cell_type": "code",
   "execution_count": null,
   "metadata": {},
   "outputs": [],
   "source": [
    "Hessian=anm.getHessian()"
   ]
  },
  {
   "cell_type": "code",
   "execution_count": null,
   "metadata": {},
   "outputs": [],
   "source": [
    "print(Hessian)"
   ]
  },
  {
   "cell_type": "code",
   "execution_count": null,
   "metadata": {},
   "outputs": [],
   "source": [
    "anm.calcModes()"
   ]
  },
  {
   "cell_type": "code",
   "execution_count": null,
   "metadata": {},
   "outputs": [],
   "source": [
    "anm.getEigvals().round(3)"
   ]
  },
  {
   "cell_type": "code",
   "execution_count": null,
   "metadata": {},
   "outputs": [],
   "source": [
    "anm.getEigvecs().round(3)"
   ]
  },
  {
   "cell_type": "code",
   "execution_count": null,
   "metadata": {},
   "outputs": [],
   "source": [
    "anm.getCovariance().round(2)"
   ]
  },
  {
   "cell_type": "code",
   "execution_count": null,
   "metadata": {},
   "outputs": [],
   "source": [
    "prody.showContactMap(anm)"
   ]
  },
  {
   "cell_type": "code",
   "execution_count": null,
   "metadata": {},
   "outputs": [],
   "source": [
    "prody.showCrossCorr(anm)"
   ]
  },
  {
   "cell_type": "code",
   "execution_count": null,
   "metadata": {},
   "outputs": [],
   "source": [
    "covariance=anm.getCovariance()"
   ]
  },
  {
   "cell_type": "code",
   "execution_count": null,
   "metadata": {},
   "outputs": [],
   "source": []
  },
  {
   "cell_type": "code",
   "execution_count": null,
   "metadata": {},
   "outputs": [],
   "source": []
  },
  {
   "cell_type": "markdown",
   "metadata": {},
   "source": [
    "--------------"
   ]
  },
  {
   "cell_type": "code",
   "execution_count": null,
   "metadata": {},
   "outputs": [],
   "source": [
    "calphas_indices=calphas.getIndices()"
   ]
  },
  {
   "cell_type": "code",
   "execution_count": null,
   "metadata": {},
   "outputs": [],
   "source": [
    "num_calphas=Kirchhoff_matrix.shape[0]\n",
    "\n",
    "sel_calphas_view=\"\"\n",
    "for ii in calphas_indices:\n",
    "    sel_calphas_view+=str(ii)+','\n",
    "sel_calphas_view=sel_calphas_view[:-1]\n",
    "\n",
    "positions_calphas=calphas.getCoords()\n",
    "\n",
    "view = nglview.show_mdtraj(mdtraj_sys)\n",
    "view.clear()\n",
    "\n",
    "view.add_cartoon(selection=\":A\", color='purple')\n",
    "view.add_cartoon(selection=\":B\", color='orange')\n",
    "view.add_spacefill(selection=\"@\"+sel_calphas_view)\n",
    "\n",
    "for ii in range(num_calphas):\n",
    "    position_ii=positions_calphas[ii]\n",
    "    for jj in range(ii+1,num_calphas):\n",
    "        position_jj=positions_calphas[jj]\n",
    "        if Kirchhoff_matrix[ii,jj]:\n",
    "            view.shape.add_cylinder(list(position_ii), list(position_jj), [1.0,0.0,0.0], 0.1)\n",
    "            #add_cylinder(position1, position2, color, radius, name)\n",
    "view"
   ]
  },
  {
   "cell_type": "code",
   "execution_count": null,
   "metadata": {},
   "outputs": [],
   "source": [
    "gnm.calcModes(20,zeros=False)"
   ]
  },
  {
   "cell_type": "code",
   "execution_count": null,
   "metadata": {},
   "outputs": [],
   "source": [
    "eigvals=gnm.getEigvals().round(3)\n",
    "eigvects=gnm.getEigvecs().round(3)"
   ]
  },
  {
   "cell_type": "code",
   "execution_count": null,
   "metadata": {},
   "outputs": [],
   "source": [
    "plt.plot(eigvals)"
   ]
  },
  {
   "cell_type": "code",
   "execution_count": null,
   "metadata": {},
   "outputs": [],
   "source": [
    "num_mode=0\n",
    "plt.plot(eigvects[:,num_mode])"
   ]
  },
  {
   "cell_type": "code",
   "execution_count": null,
   "metadata": {},
   "outputs": [],
   "source": [
    "gnm.getCovariance().round(2)"
   ]
  },
  {
   "cell_type": "code",
   "execution_count": null,
   "metadata": {},
   "outputs": [],
   "source": [
    "prody.showContactMap(gnm);"
   ]
  },
  {
   "cell_type": "code",
   "execution_count": null,
   "metadata": {},
   "outputs": [],
   "source": [
    "prody.showCrossCorr(gnm);"
   ]
  },
  {
   "cell_type": "code",
   "execution_count": null,
   "metadata": {},
   "outputs": [],
   "source": [
    "hinges = gnm[:2].getHinges"
   ]
  },
  {
   "cell_type": "code",
   "execution_count": null,
   "metadata": {},
   "outputs": [],
   "source": [
    "hinges()"
   ]
  },
  {
   "cell_type": "code",
   "execution_count": null,
   "metadata": {},
   "outputs": [],
   "source": [
    "prody.showMode(gnm[0])"
   ]
  },
  {
   "cell_type": "code",
   "execution_count": null,
   "metadata": {},
   "outputs": [],
   "source": [
    "prody.showSqFlucts(gnm[0], hinge=True)"
   ]
  },
  {
   "cell_type": "code",
   "execution_count": null,
   "metadata": {},
   "outputs": [],
   "source": [
    "prody_2bhl.getBetas()"
   ]
  },
  {
   "cell_type": "code",
   "execution_count": null,
   "metadata": {},
   "outputs": [],
   "source": [
    "calpha_betas=calphas.getBetas()"
   ]
  },
  {
   "cell_type": "code",
   "execution_count": null,
   "metadata": {},
   "outputs": [],
   "source": [
    "plt.plot(calpha_betas)"
   ]
  },
  {
   "cell_type": "code",
   "execution_count": null,
   "metadata": {},
   "outputs": [],
   "source": []
  }
 ],
 "metadata": {
  "kernelspec": {
   "display_name": "Python 3",
   "language": "python",
   "name": "python3"
  },
  "language_info": {
   "codemirror_mode": {
    "name": "ipython",
    "version": 3
   },
   "file_extension": ".py",
   "mimetype": "text/x-python",
   "name": "python",
   "nbconvert_exporter": "python",
   "pygments_lexer": "ipython3",
   "version": "3.6.5"
  }
 },
 "nbformat": 4,
 "nbformat_minor": 2
}
