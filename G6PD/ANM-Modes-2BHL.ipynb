{
 "cells": [
  {
   "cell_type": "code",
   "execution_count": 4,
   "metadata": {},
   "outputs": [
    {
     "name": "stderr",
     "output_type": "stream",
     "text": [
      "/home/diego/Myopt/Miniconda/miniconda3/envs/ENM/lib/python3.6/site-packages/MDAnalysis/due.py:88: UserWarning: No module named 'duecredit'\n",
      "  warnings.warn(str(err))\n",
      "/home/diego/Myopt/Miniconda/miniconda3/envs/ENM/lib/python3.6/site-packages/pyemma/__init__.py:91: UserWarning: You are not using the latest release of PyEMMA. Latest is 2.5.2, you have 2.4.\n",
      "  .format(latest=latest, current=current), category=UserWarning)\n"
     ]
    }
   ],
   "source": [
    "import mdtraj\n",
    "import nglview\n",
    "import prody\n",
    "import numpy as np\n",
    "import seaborn as sns\n",
    "import matplotlib.pyplot as plt\n",
    "from copy import deepcopy\n",
    "\n",
    "\n",
    "import sys\n",
    "sys.path.append('/home/diego/Myusr/src/UIBCDFGitHub/LabTools/')\n",
    "import MolLabTools as mollab\n",
    "import MDLabTools as mdlab\n",
    "\n",
    "#sns.set(style=\"ticks\")\n",
    "plt.style.use(u'ggplot')"
   ]
  },
  {
   "cell_type": "markdown",
   "metadata": {},
   "source": [
    "# G6PD"
   ]
  },
  {
   "cell_type": "markdown",
   "metadata": {},
   "source": [
    "https://www.rcsb.org/structure/2BHL <br>\n",
    "THE 25 N-TERMINAL RESIDUES HAVE BEEN REMOVED AND THE FIRST RESIDUE IS VALINE, NOT HISTIDINE\n",
    "\n",
    "\n",
    "https://www.rcsb.org/structure/2BH9 <br>\n",
    "RESIDUES 26-514\n",
    "\n",
    "\n",
    "https://www.rcsb.org/structure/5VFL\n"
   ]
  },
  {
   "cell_type": "code",
   "execution_count": 5,
   "metadata": {},
   "outputs": [],
   "source": [
    "def mode2vect(modes,n_mode=0):\n",
    "    m=modes[:,n_mode]\n",
    "    nalphas=int(m.shape[0]/3)\n",
    "    return m.reshape(nalphas,3)\n",
    "\n",
    "def mode2norm(modes,n_mode=0):\n",
    "    m=modes[:,n_mode]\n",
    "    nalphas=int(m.shape[0]/3)\n",
    "    a=m.reshape(nalphas,3)\n",
    "    return np.linalg.norm(a,axis=-1)"
   ]
  },
  {
   "cell_type": "code",
   "execution_count": 6,
   "metadata": {},
   "outputs": [],
   "source": [
    "def rgb2hex(rgb):\n",
    "    \n",
    "    r = int(rgb[0]) ; g = int(rgb[1]) ; b = int(rgb[2])\n",
    "    hex = \"0x{:02x}{:02x}{:02x}\".format(r,g,b)\n",
    "    return hex\n",
    "\n",
    "def colorscale2hex(values,color_min=[255,255,255],color_max=[255,0,0],value_min=None,value_max=None,num_bins=254):\n",
    "    \n",
    "    if not value_min:\n",
    "        value_min=values.min()\n",
    "    if not value_max:\n",
    "        value_max=values.max()\n",
    "        \n",
    "    color_bin=(np.array(color_max)-np.array(color_min))/float(num_bins)\n",
    "    scale_bin=(value_max-value_min)/float(num_bins)\n",
    "    \n",
    "    colors_hex=[]\n",
    "    for val in values:\n",
    "        val_bin=(val-value_min)/scale_bin\n",
    "        rgb_from_val=(color_bin*val_bin).astype(int)+np.array(color_min)\n",
    "        colors_hex.append(rgb2hex(rgb_from_val))\n",
    "    \n",
    "    return colors_hex\n",
    "    "
   ]
  },
  {
   "cell_type": "code",
   "execution_count": 7,
   "metadata": {},
   "outputs": [],
   "source": [
    "def make_view_mode(Cas_mdtraj,modes,n_mode=1,max_amplitude=0.2,frequency=0.01):\n",
    "    \n",
    "    m=modes[:,n_mode]\n",
    "    \n",
    "    values=mode2norm(modes,n_mode)\n",
    "    mode_vect=mode2vect(modes,n_mode)\n",
    "    amplitude=max_amplitude/values.max()\n",
    "    \n",
    "    shape_traj=mdtraj_CAs.xyz.shape\n",
    "    dtype_traj=mdtraj_CAs.xyz.dtype\n",
    "    \n",
    "    num_steps=int(1.0/0.01)\n",
    "    oscillation_frames=np.zeros((num_steps,shape_traj[1],shape_traj[2]),dtype_traj)\n",
    "    orig_frame=mdtraj_CAs.xyz[0]\n",
    "    \n",
    "    for ii in range(num_steps):\n",
    "        oscillation_frames[ii]=orig_frame+amplitude*mode_vect*np.sin(2*np.pi*ii*frequency)\n",
    "    \n",
    "    tmp_mdtraj=deepcopy(mdtraj_CAs)\n",
    "    tmp_mdtraj.xyz=oscillation_frames\n",
    "    colors = colorscale2hex(values,value_min=0.0)\n",
    "    tmp_view=nglview.show_mdtraj(tmp_mdtraj)\n",
    "    tmp_view.clear()\n",
    "    tmp_view.add_backbone()\n",
    "    tmp_view._set_color_by_residue(colors)\n",
    "    return tmp_view"
   ]
  },
  {
   "cell_type": "markdown",
   "metadata": {},
   "source": [
    "## 2BHL"
   ]
  },
  {
   "cell_type": "code",
   "execution_count": 8,
   "metadata": {},
   "outputs": [],
   "source": [
    "pdbs_dir='pdbs/'\n",
    "pdb_code='2BHL'\n",
    "pdb_file=pdbs_dir+pdb_code+'.pdb'"
   ]
  },
  {
   "cell_type": "code",
   "execution_count": 9,
   "metadata": {},
   "outputs": [],
   "source": [
    "mdtraj_sys=mdtraj.load(pdb_file)\n",
    "mdtraj_sys=mdtraj_sys.remove_solvent()"
   ]
  },
  {
   "cell_type": "code",
   "execution_count": 10,
   "metadata": {},
   "outputs": [
    {
     "data": {
      "application/vnd.jupyter.widget-view+json": {
       "model_id": "31ad7f420526444893bb7cbed88c8ce2",
       "version_major": 2,
       "version_minor": 0
      },
      "text/plain": [
       "NGLWidget()"
      ]
     },
     "metadata": {},
     "output_type": "display_data"
    }
   ],
   "source": [
    "view = nglview.show_mdtraj(mdtraj_sys)\n",
    "view.clear()\n",
    "view.add_cartoon(selection=\":A\", color='purple')\n",
    "view.add_cartoon(selection=\":B\", color='orange')\n",
    "view.add_spacefill(selection=\":C\")\n",
    "view.add_spacefill(selection=\":D\")\n",
    "view"
   ]
  },
  {
   "cell_type": "code",
   "execution_count": 21,
   "metadata": {},
   "outputs": [
    {
     "name": "stdout",
     "output_type": "stream",
     "text": [
      "Num CAs: 958\n"
     ]
    }
   ],
   "source": [
    "lista_CAs=mdtraj_sys.topology.select('name CA')\n",
    "mdtraj_CAs=mdtraj_sys.atom_slice(lista_CAs)\n",
    "num_CAs=len(lista_CAs)\n",
    "print('Num CAs:',num_CAs)"
   ]
  },
  {
   "cell_type": "code",
   "execution_count": 12,
   "metadata": {},
   "outputs": [
    {
     "data": {
      "application/vnd.jupyter.widget-view+json": {
       "model_id": "f952bed7a4ef4b5a94204b676f7051f7",
       "version_major": 2,
       "version_minor": 0
      },
      "text/plain": [
       "NGLWidget()"
      ]
     },
     "metadata": {},
     "output_type": "display_data"
    }
   ],
   "source": [
    "view = nglview.show_mdtraj(mdtraj_CAs)\n",
    "view.clear()\n",
    "view.add_backbone()\n",
    "view"
   ]
  },
  {
   "cell_type": "code",
   "execution_count": 25,
   "metadata": {},
   "outputs": [
    {
     "name": "stderr",
     "output_type": "stream",
     "text": [
      "@> 7903 atoms and 1 coordinate set(s) were parsed in 0.09s.\n",
      "@> Hessian was built in 0.64s.\n",
      "@> 2868 modes were calculated in 5.20s.\n"
     ]
    }
   ],
   "source": [
    "prody_2bhl = prody.parsePDB(pdb_file)\n",
    "calphas = prody_2bhl.select('calpha and (chain A or chain B)')\n",
    "anm = prody.ANM('2BHL')\n",
    "anm.buildHessian(calphas,cutoff=15.0)\n",
    "anm.calcModes(None)\n",
    "modes=anm.getEigvecs().round(3)"
   ]
  },
  {
   "cell_type": "code",
   "execution_count": 43,
   "metadata": {},
   "outputs": [
    {
     "data": {
      "application/vnd.jupyter.widget-view+json": {
       "model_id": "b4edfab920dd45c997d737abc43c803d",
       "version_major": 2,
       "version_minor": 0
      },
      "text/plain": [
       "NGLWidget(count=100)"
      ]
     },
     "metadata": {},
     "output_type": "display_data"
    }
   ],
   "source": [
    "view_mode=make_view_mode(mdtraj_CAs,modes,n_mode=0,max_amplitude=0.5,frequency=0.05)\n",
    "view_mode.add_ball_and_stick('365')\n",
    "view_mode"
   ]
  },
  {
   "cell_type": "code",
   "execution_count": 31,
   "metadata": {},
   "outputs": [
    {
     "data": {
      "text/plain": [
       "[<matplotlib.lines.Line2D at 0x7f4e0737f390>]"
      ]
     },
     "execution_count": 31,
     "metadata": {},
     "output_type": "execute_result"
    },
    {
     "data": {
      "image/png": "[encoded data removed]",
      "text/plain": [
       "<Figure size 432x288 with 1 Axes>"
      ]
     },
     "metadata": {},
     "output_type": "display_data"
    }
   ],
   "source": [
    "plt.plot(mode2norm(modes,0))"
   ]
  },
  {
   "cell_type": "code",
   "execution_count": 35,
   "metadata": {},
   "outputs": [
    {
     "data": {
      "text/plain": [
       "[<matplotlib.lines.Line2D at 0x7f4e0732fac8>]"
      ]
     },
     "execution_count": 35,
     "metadata": {},
     "output_type": "execute_result"
    },
    {
     "data": {
      "image/png": "[encoded data removed]",
      "text/plain": [
       "<Figure size 432x288 with 1 Axes>"
      ]
     },
     "metadata": {},
     "output_type": "display_data"
    }
   ],
   "source": [
    "high_freq_modes=np.zeros(num_CAs)\n",
    "num_high_freq_modes=10\n",
    "for ii in range(3*num_CAs-num_high_freq_modes-6,3*num_CAs-6):\n",
    "    high_freq_modes+=mode2norm(modes,ii)\n",
    "\n",
    "plt.plot(high_freq_modes)"
   ]
  },
  {
   "cell_type": "code",
   "execution_count": null,
   "metadata": {},
   "outputs": [],
   "source": []
  },
  {
   "cell_type": "code",
   "execution_count": null,
   "metadata": {},
   "outputs": [],
   "source": []
  },
  {
   "cell_type": "code",
   "execution_count": null,
   "metadata": {},
   "outputs": [],
   "source": []
  },
  {
   "cell_type": "code",
   "execution_count": null,
   "metadata": {},
   "outputs": [],
   "source": []
  },
  {
   "cell_type": "code",
   "execution_count": null,
   "metadata": {},
   "outputs": [],
   "source": []
  },
  {
   "cell_type": "code",
   "execution_count": null,
   "metadata": {},
   "outputs": [],
   "source": []
  },
  {
   "cell_type": "code",
   "execution_count": null,
   "metadata": {},
   "outputs": [],
   "source": []
  },
  {
   "cell_type": "markdown",
   "metadata": {},
   "source": []
  },
  {
   "cell_type": "markdown",
   "metadata": {},
   "source": [
    "# GNM"
   ]
  },
  {
   "cell_type": "code",
   "execution_count": null,
   "metadata": {},
   "outputs": [],
   "source": [
    "prody_2bhl = prody.parsePDB(pdb_file)"
   ]
  },
  {
   "cell_type": "code",
   "execution_count": null,
   "metadata": {},
   "outputs": [],
   "source": [
    "calphas = prody_2bhl.select('calpha and (chain A or chain B)')"
   ]
  },
  {
   "cell_type": "code",
   "execution_count": null,
   "metadata": {},
   "outputs": [],
   "source": [
    "anm = prody.ANM('2BHL')"
   ]
  },
  {
   "cell_type": "code",
   "execution_count": null,
   "metadata": {},
   "outputs": [],
   "source": []
  },
  {
   "cell_type": "code",
   "execution_count": null,
   "metadata": {},
   "outputs": [],
   "source": [
    "anm.buildHessian(calphas,cutoff=15.0)"
   ]
  },
  {
   "cell_type": "code",
   "execution_count": null,
   "metadata": {},
   "outputs": [],
   "source": [
    "Hessian=anm.getHessian()"
   ]
  },
  {
   "cell_type": "code",
   "execution_count": null,
   "metadata": {},
   "outputs": [],
   "source": [
    "print(Hessian)"
   ]
  },
  {
   "cell_type": "code",
   "execution_count": null,
   "metadata": {},
   "outputs": [],
   "source": [
    "anm.calcModes()"
   ]
  },
  {
   "cell_type": "code",
   "execution_count": null,
   "metadata": {},
   "outputs": [],
   "source": [
    "anm.getEigvals().round(3)"
   ]
  },
  {
   "cell_type": "code",
   "execution_count": null,
   "metadata": {},
   "outputs": [],
   "source": [
    "anm.getEigvecs().round(3)"
   ]
  },
  {
   "cell_type": "code",
   "execution_count": null,
   "metadata": {},
   "outputs": [],
   "source": [
    "anm.getCovariance().round(2)"
   ]
  },
  {
   "cell_type": "code",
   "execution_count": null,
   "metadata": {},
   "outputs": [],
   "source": [
    "prody.showContactMap(anm)"
   ]
  },
  {
   "cell_type": "code",
   "execution_count": null,
   "metadata": {},
   "outputs": [],
   "source": [
    "prody.showCrossCorr(anm)"
   ]
  },
  {
   "cell_type": "code",
   "execution_count": null,
   "metadata": {},
   "outputs": [],
   "source": [
    "covariance=anm.getCovariance()"
   ]
  },
  {
   "cell_type": "code",
   "execution_count": null,
   "metadata": {},
   "outputs": [],
   "source": []
  },
  {
   "cell_type": "code",
   "execution_count": null,
   "metadata": {},
   "outputs": [],
   "source": []
  },
  {
   "cell_type": "markdown",
   "metadata": {},
   "source": [
    "--------------"
   ]
  },
  {
   "cell_type": "code",
   "execution_count": null,
   "metadata": {},
   "outputs": [],
   "source": [
    "calphas_indices=calphas.getIndices()"
   ]
  },
  {
   "cell_type": "code",
   "execution_count": null,
   "metadata": {},
   "outputs": [],
   "source": [
    "num_calphas=Kirchhoff_matrix.shape[0]\n",
    "\n",
    "sel_calphas_view=\"\"\n",
    "for ii in calphas_indices:\n",
    "    sel_calphas_view+=str(ii)+','\n",
    "sel_calphas_view=sel_calphas_view[:-1]\n",
    "\n",
    "positions_calphas=calphas.getCoords()\n",
    "\n",
    "view = nglview.show_mdtraj(mdtraj_sys)\n",
    "view.clear()\n",
    "\n",
    "view.add_cartoon(selection=\":A\", color='purple')\n",
    "view.add_cartoon(selection=\":B\", color='orange')\n",
    "view.add_spacefill(selection=\"@\"+sel_calphas_view)\n",
    "\n",
    "for ii in range(num_calphas):\n",
    "    position_ii=positions_calphas[ii]\n",
    "    for jj in range(ii+1,num_calphas):\n",
    "        position_jj=positions_calphas[jj]\n",
    "        if Kirchhoff_matrix[ii,jj]:\n",
    "            view.shape.add_cylinder(list(position_ii), list(position_jj), [1.0,0.0,0.0], 0.1)\n",
    "            #add_cylinder(position1, position2, color, radius, name)\n",
    "view"
   ]
  },
  {
   "cell_type": "code",
   "execution_count": null,
   "metadata": {},
   "outputs": [],
   "source": [
    "gnm.calcModes(20,zeros=False)"
   ]
  },
  {
   "cell_type": "code",
   "execution_count": null,
   "metadata": {},
   "outputs": [],
   "source": [
    "eigvals=gnm.getEigvals().round(3)\n",
    "eigvects=gnm.getEigvecs().round(3)"
   ]
  },
  {
   "cell_type": "code",
   "execution_count": null,
   "metadata": {},
   "outputs": [],
   "source": [
    "plt.plot(eigvals)"
   ]
  },
  {
   "cell_type": "code",
   "execution_count": null,
   "metadata": {},
   "outputs": [],
   "source": [
    "num_mode=0\n",
    "plt.plot(eigvects[:,num_mode])"
   ]
  },
  {
   "cell_type": "code",
   "execution_count": null,
   "metadata": {},
   "outputs": [],
   "source": [
    "gnm.getCovariance().round(2)"
   ]
  },
  {
   "cell_type": "code",
   "execution_count": null,
   "metadata": {},
   "outputs": [],
   "source": [
    "prody.showContactMap(gnm);"
   ]
  },
  {
   "cell_type": "code",
   "execution_count": null,
   "metadata": {},
   "outputs": [],
   "source": [
    "prody.showCrossCorr(gnm);"
   ]
  },
  {
   "cell_type": "code",
   "execution_count": null,
   "metadata": {},
   "outputs": [],
   "source": [
    "hinges = gnm[:2].getHinges"
   ]
  },
  {
   "cell_type": "code",
   "execution_count": null,
   "metadata": {},
   "outputs": [],
   "source": [
    "hinges()"
   ]
  },
  {
   "cell_type": "code",
   "execution_count": null,
   "metadata": {},
   "outputs": [],
   "source": [
    "prody.showMode(gnm[0])"
   ]
  },
  {
   "cell_type": "code",
   "execution_count": null,
   "metadata": {},
   "outputs": [],
   "source": [
    "prody.showSqFlucts(gnm[0], hinge=True)"
   ]
  },
  {
   "cell_type": "code",
   "execution_count": null,
   "metadata": {},
   "outputs": [],
   "source": [
    "prody_2bhl.getBetas()"
   ]
  },
  {
   "cell_type": "code",
   "execution_count": null,
   "metadata": {},
   "outputs": [],
   "source": [
    "calpha_betas=calphas.getBetas()"
   ]
  },
  {
   "cell_type": "code",
   "execution_count": null,
   "metadata": {},
   "outputs": [],
   "source": [
    "plt.plot(calpha_betas)"
   ]
  },
  {
   "cell_type": "code",
   "execution_count": null,
   "metadata": {},
   "outputs": [],
   "source": []
  }
 ],
 "metadata": {
  "kernelspec": {
   "display_name": "Python 3",
   "language": "python",
   "name": "python3"
  },
  "language_info": {
   "codemirror_mode": {
    "name": "ipython",
    "version": 3
   },
   "file_extension": ".py",
   "mimetype": "text/x-python",
   "name": "python",
   "nbconvert_exporter": "python",
   "pygments_lexer": "ipython3",
   "version": "3.6.5"
  }
 },
 "nbformat": 4,
 "nbformat_minor": 2
}
